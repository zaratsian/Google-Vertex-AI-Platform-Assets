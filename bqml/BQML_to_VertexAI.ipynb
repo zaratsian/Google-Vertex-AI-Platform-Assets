{
 "cells": [
  {
   "cell_type": "code",
   "execution_count": 3,
   "id": "1479dd7f",
   "metadata": {},
   "outputs": [],
   "source": [
    "# Config (update these variables based on your GCP project and naming conventions)\n",
    "\n",
    "GCP_PROJECT_ID           = 'dz-apps'        # Google Cloud Project ID\n",
    "BQ_DATASET               = 'zdatasets'      # Name of BigQuery Dataset to create (if it does not exist)\n",
    "BQ_MODEL_NAME            = 'logistic_model' # Name of BigQuery model that will be trained\n",
    "GCS_BUCKET               = 'bqml_vertex'    # Google Cloud Storage Bucket to be created\n",
    "GCS_LOCATION             = 'us-central1'    # Google Cloud Storage Location\n",
    "VERTEX_LOCATION          = 'us-central1'\n",
    "VERTEX_MODEL_NAME        = 'bqml-to-vertex'\n",
    "VERTEX_SERVING_CONTAINER = 'us-docker.pkg.dev/vertex-ai/prediction/tf2-cpu.2-3:latest' # https://cloud.google.com/vertex-ai/docs/predictions/pre-built-containers"
   ]
  },
  {
   "cell_type": "markdown",
   "id": "a01e054b",
   "metadata": {},
   "source": [
    "----"
   ]
  },
  {
   "cell_type": "markdown",
   "id": "1cce6459",
   "metadata": {},
   "source": [
    "## **BigQuery ML model deployment to Vertex AI**\n",
    "References: \n",
    "* [Vertex/AI Platform SDK](https://github.com/googleapis/python-aiplatform)\n",
    "* [BQML Exporting Models](https://cloud.google.com/bigquery-ml/docs/exporting-models#bq)\n",
    "* [BQML Logistic Example](https://cloud.google.com/bigquery-ml/docs/logistic-regression-prediction)\n",
    "* [BQML Model Types](https://cloud.google.com/bigquery-ml/docs/reference/standard-sql/bigqueryml-syntax-create#model_type)\n",
    "* [Codelab example that I modified for this notebook](https://codelabs.developers.google.com/codelabs/bqml-vertex-prediction)"
   ]
  },
  {
   "cell_type": "code",
   "execution_count": null,
   "id": "ca8d010d",
   "metadata": {},
   "outputs": [],
   "source": [
    "!pip install google-cloud-aiplatform==1.0.1"
   ]
  },
  {
   "cell_type": "code",
   "execution_count": 1,
   "id": "3ba8b03e",
   "metadata": {},
   "outputs": [],
   "source": [
    "from google.cloud import bigquery\n",
    "from google.cloud import storage\n",
    "from google.cloud import aiplatform"
   ]
  },
  {
   "cell_type": "code",
   "execution_count": 4,
   "id": "b8193af3",
   "metadata": {},
   "outputs": [],
   "source": [
    "# Initialize BQ client\n",
    "try:\n",
    "    bq_client = bigquery.Client()\n",
    "except Exception as e: \n",
    "    print('[ EXCEPTION ] {}'.format(e))\n",
    "\n",
    "QUERY = f'''\n",
    "CREATE OR REPLACE MODEL\n",
    "  `{GCP_PROJECT_ID}.{BQ_DATASET}.{BQ_DATASET}` OPTIONS(model_type='LOGISTIC_REG',\n",
    "    input_label_cols=['default_payment_next_month']) AS\n",
    "SELECT\n",
    "  limit_balance,\n",
    "  sex,\n",
    "  education_level,\n",
    "  marital_status,\n",
    "  age,\n",
    "  pay_0,\n",
    "  pay_2,\n",
    "  pay_3,\n",
    "  pay_4,\n",
    "  pay_5,\n",
    "  pay_6,\n",
    "  bill_amt_1,\n",
    "  bill_amt_2,\n",
    "  bill_amt_3,\n",
    "  bill_amt_4,\n",
    "  bill_amt_5,\n",
    "  bill_amt_6,\n",
    "  pay_amt_1,\n",
    "  pay_amt_2,\n",
    "  pay_amt_3,\n",
    "  pay_amt_4,\n",
    "  pay_amt_5,\n",
    "  pay_amt_6,\n",
    "  default_payment_next_month\n",
    "FROM\n",
    "  `bigquery-public-data.ml_datasets.credit_card_default`\n",
    "'''\n",
    "query_job = bq_client.query(QUERY)\n",
    "rows = query_job.result()"
   ]
  },
  {
   "cell_type": "code",
   "execution_count": 37,
   "id": "8d7002ae",
   "metadata": {},
   "outputs": [
    {
     "name": "stdout",
     "output_type": "stream",
     "text": [
      "[ INFO ] Successfully created bqml_vertex at us-central1\n"
     ]
    }
   ],
   "source": [
    "# Create Google Cloud Storage bucket\n",
    "\n",
    "def gcs_create_bucket(bucket_name, location='us-central1', storage_class=\"STANDARD\"):\n",
    "    try:\n",
    "        storage_client = storage.Client()\n",
    "        bucket = storage_client.bucket(bucket_name)\n",
    "        bucket.storage_class = storage_class # STANDARD, NEARLINE, COLDLINE, ARCHIVE\n",
    "        bucket.create(location=location) # Location can be 'us', 'us-central1', 'us-east4'\n",
    "        print('[ INFO ] Successfully created {} at {}'.format(bucket_name, location))\n",
    "    except Exception as e:\n",
    "        print('[ EXCEPTION ] {}'.format(e))\n",
    "\n",
    "gcs_create_bucket(GCS_BUCKET, GCS_LOCATION)"
   ]
  },
  {
   "cell_type": "code",
   "execution_count": 42,
   "id": "18ec3365",
   "metadata": {},
   "outputs": [],
   "source": [
    "# Export BQML Model to the newly created Cloud Storage Bucket\n",
    "\n",
    "QUERY = f'''\n",
    "EXPORT MODEL `{GCP_PROJECT_ID}.{BIGQUERY_DATASET}.{BQ_MODEL_NAME}`\n",
    "OPTIONS(URI = 'gs://{GCS_BUCKET}/model-assets/')\n",
    "'''\n",
    "query_job = bq_client.query(QUERY)\n",
    "rows = query_job.result()"
   ]
  },
  {
   "cell_type": "code",
   "execution_count": null,
   "id": "165d7796",
   "metadata": {},
   "outputs": [],
   "source": [
    "# Upload Model (that has been exported to Google Cloud Storage) into Vertex AI\n",
    "\n",
    "def upload_model(\n",
    "    project: str,\n",
    "    location: str,\n",
    "    display_name: str,\n",
    "    serving_container_image_uri: str,\n",
    "    artifact_uri: Optional[str] = None,\n",
    "    serving_container_predict_route: Optional[str] = None,\n",
    "    serving_container_health_route: Optional[str] = None,\n",
    "    description: Optional[str] = None,\n",
    "    serving_container_command: Optional[Sequence[str]] = None,\n",
    "    serving_container_args: Optional[Sequence[str]] = None,\n",
    "    serving_container_environment_variables: Optional[Dict[str, str]] = None,\n",
    "    serving_container_ports: Optional[Sequence[int]] = None,\n",
    "    instance_schema_uri: Optional[str] = None,\n",
    "    parameters_schema_uri: Optional[str] = None,\n",
    "    prediction_schema_uri: Optional[str] = None,\n",
    "    explanation_metadata: Optional[explain.ExplanationMetadata] = None,\n",
    "    explanation_parameters: Optional[explain.ExplanationParameters] = None,\n",
    "    sync: bool = True,\n",
    "):\n",
    "    \n",
    "    aiplatform.init(project=project, location=location)\n",
    "    \n",
    "    model = aiplatform.Model.upload(\n",
    "        display_name=display_name,\n",
    "        artifact_uri=artifact_uri,\n",
    "        serving_container_image_uri=serving_container_image_uri,\n",
    "        serving_container_predict_route=serving_container_predict_route,\n",
    "        serving_container_health_route=serving_container_health_route,\n",
    "        instance_schema_uri=instance_schema_uri,\n",
    "        parameters_schema_uri=parameters_schema_uri,\n",
    "        prediction_schema_uri=prediction_schema_uri,\n",
    "        description=description,\n",
    "        serving_container_command=serving_container_command,\n",
    "        serving_container_args=serving_container_args,\n",
    "        serving_container_environment_variables=serving_container_environment_variables,\n",
    "        serving_container_ports=serving_container_ports,\n",
    "        explanation_metadata=explanation_metadata,\n",
    "        explanation_parameters=explanation_parameters,\n",
    "        sync=sync,\n",
    "    )\n",
    "    \n",
    "    model.wait()\n",
    "    \n",
    "    print(model.display_name)\n",
    "    print(model.resource_name)\n",
    "    return model\n",
    "\n"
   ]
  },
  {
   "cell_type": "code",
   "execution_count": 67,
   "id": "3ab8fa6f",
   "metadata": {},
   "outputs": [
    {
     "name": "stdout",
     "output_type": "stream",
     "text": [
      "INFO:google.cloud.aiplatform.models:Creating Model\n",
      "INFO:google.cloud.aiplatform.models:Create Model backing LRO: projects/492854496121/locations/us-central1/models/530307652215898112/operations/8475334968938070016\n",
      "INFO:google.cloud.aiplatform.models:Model created. Resource name: projects/492854496121/locations/us-central1/models/530307652215898112\n",
      "INFO:google.cloud.aiplatform.models:To use this Model in another session:\n",
      "INFO:google.cloud.aiplatform.models:model = aiplatform.Model('projects/492854496121/locations/us-central1/models/530307652215898112')\n"
     ]
    }
   ],
   "source": [
    "# Pre-built Model Serving Containers:\n",
    "# https://cloud.google.com/vertex-ai/docs/predictions/pre-built-containers\n",
    "\n",
    "aiplatform.init(project=GCP_PROJECT_ID, location=VERTEX_LOCATION)\n",
    "    \n",
    "model = aiplatform.Model.upload(\n",
    "    display_name=VERTEX_MODEL_NAME,\n",
    "    artifact_uri=f'gs://{GCS_BUCKET}/model-assets/',\n",
    "    serving_container_image_uri=VERTEX_SERVING_CONTAINER\n",
    ")"
   ]
  },
  {
   "cell_type": "code",
   "execution_count": 68,
   "id": "b061d28c",
   "metadata": {},
   "outputs": [
    {
     "name": "stdout",
     "output_type": "stream",
     "text": [
      "INFO:google.cloud.aiplatform.models:Creating Endpoint\n",
      "INFO:google.cloud.aiplatform.models:Create Endpoint backing LRO: projects/492854496121/locations/us-central1/endpoints/1907890168702959616/operations/2616151853729054720\n",
      "INFO:google.cloud.aiplatform.models:Endpoint created. Resource name: projects/492854496121/locations/us-central1/endpoints/1907890168702959616\n",
      "INFO:google.cloud.aiplatform.models:To use this Endpoint in another session:\n",
      "INFO:google.cloud.aiplatform.models:endpoint = aiplatform.Endpoint('projects/492854496121/locations/us-central1/endpoints/1907890168702959616')\n",
      "INFO:google.cloud.aiplatform.models:Deploying model to Endpoint : projects/492854496121/locations/us-central1/endpoints/1907890168702959616\n",
      "INFO:google.cloud.aiplatform.models:Deploy Endpoint model backing LRO: projects/492854496121/locations/us-central1/endpoints/1907890168702959616/operations/1004707612060549120\n",
      "INFO:google.cloud.aiplatform.models:Endpoint model deployed. Resource name: projects/492854496121/locations/us-central1/endpoints/1907890168702959616\n"
     ]
    }
   ],
   "source": [
    "# Deploy Vertex Model as an Endpoint\n",
    "\n",
    "endpoint = model.deploy(\n",
    "    deployed_model_display_name=f'''{VERTEX_MODEL_NAME}-endpoint''',\n",
    "    machine_type=\"n1-standard-4\",\n",
    "    min_replica_count=1,\n",
    "    max_replica_count=3\n",
    ")\n"
   ]
  },
  {
   "cell_type": "markdown",
   "id": "c5024f17",
   "metadata": {},
   "source": [
    "## **Get Predictions**"
   ]
  },
  {
   "cell_type": "code",
   "execution_count": 9,
   "id": "4bb10025",
   "metadata": {},
   "outputs": [
    {
     "name": "stdout",
     "output_type": "stream",
     "text": [
      "200 - {\n",
      "  \"predictions\": [\n",
      "    {\n",
      "      \"default_payment_next_month_values\": [\n",
      "        \"1\",\n",
      "        \"0\"\n",
      "      ],\n",
      "      \"default_payment_next_month_probs\": [\n",
      "        0.18081529529977791,\n",
      "        0.81918470470022209\n",
      "      ],\n",
      "      \"predicted_default_payment_next_month\": [\n",
      "        \"0\"\n",
      "      ]\n",
      "    }\n",
      "  ],\n",
      "  \"deployedModelId\": \"8158956820237385728\"\n",
      "}\n",
      "\n"
     ]
    }
   ],
   "source": [
    "import requests\n",
    "import json\n",
    "\n",
    "GCP_PROJECT_ID      = GCP_PROJECT_ID  # 'dz-apps'\n",
    "VERTEX_REGION       = VERTEX_LOCATION # 'us-central1'\n",
    "VERTEX_ENDPOINT_ID  = '1907890168702959616'\n",
    "# Get Access Token with this syntax: $(gcloud auth print-access-token)\n",
    "ACCESS_TOKEN        = 'ya29.aaaaaaaaaaaaaaaaaaaaaaaaaaaaaaaaaaaa'\n",
    "HEADERS = {\"Authorization\": f\"Bearer {ACCESS_TOKEN}\", \"Content-Type\": \"application/json\"}\n",
    "\n",
    "PAYLOAD = {\n",
    "  \"instances\": [\n",
    "    {\"age\": 39,\n",
    "    \"bill_amt_1\": 47174,\n",
    "    \"bill_amt_2\": 47974,\n",
    "    \"bill_amt_3\": 48630,\n",
    "    \"bill_amt_4\": 50803,\n",
    "    \"bill_amt_5\": 30789,\n",
    "    \"bill_amt_6\": 15874,\n",
    "    \"education_level\": \"1\",\n",
    "    \"limit_balance\": 50000,\n",
    "    \"marital_status\": \"2\",\n",
    "    \"pay_0\": 0,\n",
    "    \"pay_2\":0,\n",
    "    \"pay_3\": 0,\n",
    "    \"pay_4\": 0,\n",
    "    \"pay_5\": \"0\",\n",
    "    \"pay_6\": \"0\",\n",
    "    \"pay_amt_1\": 1800,\n",
    "    \"pay_amt_2\": 2000,\n",
    "    \"pay_amt_3\": 3000,\n",
    "    \"pay_amt_4\": 2000,\n",
    "    \"pay_amt_5\": 2000,\n",
    "    \"pay_amt_6\": 2000,\n",
    "    \"sex\": \"1\"}\n",
    "  ]\n",
    "}\n",
    "\n",
    "response = requests.post(f'https://{VERTEX_REGION}-prediction-aiplatform.googleapis.com/v1alpha1/projects/{GCP_PROJECT_ID}/locations/{VERTEX_REGION}/endpoints/{VERTEX_ENDPOINT_ID}:predict', json=PAYLOAD, headers=HEADERS)\n",
    "\n",
    "print('{} - {}'.format(response.status_code, response.text))"
   ]
  },
  {
   "cell_type": "code",
   "execution_count": null,
   "id": "4bd394da",
   "metadata": {},
   "outputs": [],
   "source": []
  }
 ],
 "metadata": {
  "environment": {
   "name": "tf2-gpu.2-3.m71",
   "type": "gcloud",
   "uri": "gcr.io/deeplearning-platform-release/tf2-gpu.2-3:m71"
  },
  "kernelspec": {
   "display_name": "Python 3",
   "language": "python",
   "name": "python3"
  },
  "language_info": {
   "codemirror_mode": {
    "name": "ipython",
    "version": 3
   },
   "file_extension": ".py",
   "mimetype": "text/x-python",
   "name": "python",
   "nbconvert_exporter": "python",
   "pygments_lexer": "ipython3",
   "version": "3.7.10"
  }
 },
 "nbformat": 4,
 "nbformat_minor": 5
}
